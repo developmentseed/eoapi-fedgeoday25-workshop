{
 "cells": [
  {
   "cell_type": "markdown",
   "id": "9edbdd3b-5b35-4bbb-9e15-e5152260aa24",
   "metadata": {},
   "source": [
    "# The Database: `pgstac`\n",
    "\n",
    "`pgstac` is a PostgreSQL extension that enables STAC metadata management in a PostgreSQL database.\n",
    "eoAPI is useful to many organizations because the other components are configured to work seamlessly with STAC metadata that is stored in your `pgstac` database.\n",
    "\n",
    "Your STAC metadata generation and ingestion workflow will probably not take place in a notebook but the basic steps will be the same:\n",
    "1. Generate STAC collection record\n",
    "2. Add new record it to the collections table with `Loader.load_collections`\n",
    "3. Generate STAC item records\n",
    "4. Add new records to the items table with `Loader.load_items`\n",
    "\n",
    "In this notebook you will learn how to interact with a `pgstac` database:\n",
    "- Create and upload a collection\n",
    "- Upload items\n",
    "- Delete an item\n",
    "\n",
    "Fill in the input boxes below to get started with your own personal Sentinel-2 STAC collection!"
   ]
  },
  {
   "cell_type": "code",
   "execution_count": 3,
   "id": "196e7c1d-b82b-4d66-bf96-4942cd02392c",
   "metadata": {
    "editable": true,
    "slideshow": {
     "slide_type": ""
    },
    "tags": [
     "hide-input"
    ]
   },
   "outputs": [
    {
     "data": {
      "application/vnd.jupyter.widget-view+json": {
       "model_id": "f42f19de526d4256bcf34e8f4a826608",
       "version_major": 2,
       "version_minor": 0
      },
      "text/plain": [
       "Text(value='', description='username:', placeholder='Enter your username')"
      ]
     },
     "metadata": {},
     "output_type": "display_data"
    },
    {
     "data": {
      "application/vnd.jupyter.widget-view+json": {
       "model_id": "ccf707573718418bb427908b9a0aba8a",
       "version_major": 2,
       "version_minor": 0
      },
      "text/plain": [
       "BoundedFloatText(value=38.9, description='latitude:', max=90.0, min=-90.0)"
      ]
     },
     "metadata": {},
     "output_type": "display_data"
    },
    {
     "data": {
      "application/vnd.jupyter.widget-view+json": {
       "model_id": "e98721a4af4c4e0989f0eca547d42a04",
       "version_major": 2,
       "version_minor": 0
      },
      "text/plain": [
       "BoundedFloatText(value=-77.0, description='longitude:', max=180.0, min=-180.0)"
      ]
     },
     "metadata": {},
     "output_type": "display_data"
    },
    {
     "data": {
      "application/vnd.jupyter.widget-view+json": {
       "model_id": "befc565c86564e6da76c68b5c1cc17e2",
       "version_major": 2,
       "version_minor": 0
      },
      "text/plain": [
       "Text(value='', description='db host:', placeholder='Enter database host address')"
      ]
     },
     "metadata": {},
     "output_type": "display_data"
    },
    {
     "data": {
      "application/vnd.jupyter.widget-view+json": {
       "model_id": "eecfcb0340a24f759c9541fb718c81c6",
       "version_major": 2,
       "version_minor": 0
      },
      "text/plain": [
       "Text(value='pgstac_user', description='db user:', placeholder='Enter database username')"
      ]
     },
     "metadata": {},
     "output_type": "display_data"
    },
    {
     "data": {
      "application/vnd.jupyter.widget-view+json": {
       "model_id": "d22d4fa8131c4e0c8e1375e8944ce3f6",
       "version_major": 2,
       "version_minor": 0
      },
      "text/plain": [
       "Text(value='', description='db password:', placeholder='Enter database password')"
      ]
     },
     "metadata": {},
     "output_type": "display_data"
    }
   ],
   "source": [
    "import ipywidgets as widgets\n",
    "from IPython.display import display\n",
    "\n",
    "username_input = widgets.Text(\n",
    "    value=\"\", placeholder=\"Enter your username\", description=\"username:\", disabled=False\n",
    ")\n",
    "\n",
    "lat_input = widgets.BoundedFloatText(\n",
    "    value=38.9,\n",
    "    min=-90,\n",
    "    max=90,\n",
    "    placeholder=\"enter the latitude of your hometown\",\n",
    "    description=\"latitude:\",\n",
    "    disabled=False,\n",
    ")\n",
    "lon_input = widgets.BoundedFloatText(\n",
    "    value=-77.0,\n",
    "    min=-180,\n",
    "    max=180,\n",
    "    placeholder=\"enter the longitude of your hometown\",\n",
    "    description=\"longitude:\",\n",
    "    disabled=False,\n",
    ")\n",
    "db_host_input = widgets.Text(\n",
    "    value=\"\",\n",
    "    placeholder=\"Enter database host address\",\n",
    "    description=\"db host:\",\n",
    "    disabled=False,\n",
    ")\n",
    "db_user_input = widgets.Text(\n",
    "    value=\"pgstac_user\",\n",
    "    placeholder=\"Enter database username\",\n",
    "    description=\"db user:\",\n",
    "    disabled=False,\n",
    ")\n",
    "db_password_input = widgets.Text(\n",
    "    value=\"\",\n",
    "    placeholder=\"Enter database password\",\n",
    "    description=\"db password:\",\n",
    "    disabled=False,\n",
    ")\n",
    "\n",
    "# Display the widgets\n",
    "display(username_input)\n",
    "display(lat_input)\n",
    "display(lon_input)\n",
    "display(db_host_input)\n",
    "display(db_user_input)\n",
    "display(db_password_input)"
   ]
  },
  {
   "cell_type": "code",
   "execution_count": 4,
   "id": "6a49d4d2-ca06-4704-84bc-cbeef8103546",
   "metadata": {
    "editable": true,
    "slideshow": {
     "slide_type": ""
    },
    "tags": []
   },
   "outputs": [],
   "source": [
    "from datetime import datetime\n",
    "\n",
    "import pystac_client\n",
    "from pystac import Collection, Extent, SpatialExtent, TemporalExtent\n",
    "from pypgstac.db import PgstacDB\n",
    "from pypgstac.load import Loader, Methods\n",
    "from shapely.geometry import Point\n",
    "\n",
    "# deployed stac-fastapi-pgstac API\n",
    "stac_api_endpoint = \"https://pj44p72a3g.execute-api.us-west-2.amazonaws.com\""
   ]
  },
  {
   "cell_type": "markdown",
   "id": "e6d710ec-c2b0-4784-a8ce-a9c3694abc35",
   "metadata": {},
   "source": [
    "## Load a collection object\n",
    "\n",
    "Start by creating a collection that will contain items within ~2 degrees of your provided location between January 1 2025 and April 18 2025."
   ]
  },
  {
   "cell_type": "code",
   "execution_count": 5,
   "id": "1a09b4e5-1727-4ee2-96ef-e0772267829d",
   "metadata": {},
   "outputs": [
    {
     "data": {
      "text/html": [
       "\n",
       "\n",
       "<style>\n",
       ".pystac-summary {\n",
       "    cursor: pointer;\n",
       "    display: list-item;\n",
       "    list-style: revert;\n",
       "    margin-bottom: 0 !important;\n",
       "\n",
       "    .pystac-l {\n",
       "        padding-left: 0.5em;\n",
       "        color: rgb(64, 128, 128);\n",
       "        font-style: italic;\n",
       "    }\n",
       "}\n",
       ".pystac-row {\n",
       "    overflow-wrap: break-word;\n",
       "    padding-left: .825em;\n",
       "\n",
       "    .pystac-k {\n",
       "        display: inline-block;\n",
       "        margin: 0px 0.5em 0px 0px;\n",
       "    }\n",
       "    .pystac-v {\n",
       "        color: rgb(186, 33, 33);\n",
       "    }\n",
       "}\n",
       ".pystac-k {\n",
       "    color: rgb(0, 128, 0);\n",
       "    font-weight: 700;\n",
       "}\n",
       "</style>\n",
       "<div class=\"jp-RenderedJSON jp-mod-trusted jp-OutputArea-output\">\n",
       "    <div class=\"container\" style=\"line-height: normal;\">\n",
       "        <ul style=\"padding: 0px; margin: 0px; list-style: none; display: block;\">\n",
       "            \n",
       "                \n",
       "                    \n",
       "        <li class=\"pystac-row\">\n",
       "            <span class=\"pystac-k\">type</span>\n",
       "            <span class=\"pystac-v\">\"Collection\"</span>\n",
       "        </li>\n",
       "    \n",
       "                \n",
       "            \n",
       "                \n",
       "                    \n",
       "        <li class=\"pystac-row\">\n",
       "            <span class=\"pystac-k\">id</span>\n",
       "            <span class=\"pystac-v\">\"test-sentinel-2-c1-l2a\"</span>\n",
       "        </li>\n",
       "    \n",
       "                \n",
       "            \n",
       "                \n",
       "                    \n",
       "        <li class=\"pystac-row\">\n",
       "            <span class=\"pystac-k\">stac_version</span>\n",
       "            <span class=\"pystac-v\">\"1.1.0\"</span>\n",
       "        </li>\n",
       "    \n",
       "                \n",
       "            \n",
       "                \n",
       "                    \n",
       "        <li class=\"pystac-row\">\n",
       "            <span class=\"pystac-k\">description</span>\n",
       "            <span class=\"pystac-v\">\"my collection\"</span>\n",
       "        </li>\n",
       "    \n",
       "                \n",
       "            \n",
       "                \n",
       "                    <li><details>\n",
       "        <summary class=\"pystac-summary\"><span class=\"pystac-k\">links</span><span class=\"pystac-l\">[] 0 items</span></summary>\n",
       "        \n",
       "    </details></li>\n",
       "                \n",
       "            \n",
       "                \n",
       "                    \n",
       "        <li><details>\n",
       "            <summary class=\"pystac-summary\"><span class=\"pystac-k\">extent</span></summary>\n",
       "            <ul style=\"margin: 0px; padding: 0px 0px 0px 1.75em; list-style: none; display: block;\">\n",
       "        \n",
       "            \n",
       "                \n",
       "        <li><details>\n",
       "            <summary class=\"pystac-summary\"><span class=\"pystac-k\">spatial</span></summary>\n",
       "            <ul style=\"margin: 0px; padding: 0px 0px 0px 1.75em; list-style: none; display: block;\">\n",
       "        \n",
       "            \n",
       "                <li><details>\n",
       "        <summary class=\"pystac-summary\"><span class=\"pystac-k\">bbox</span><span class=\"pystac-l\">[] 1 items</span></summary>\n",
       "        \n",
       "            <ul style=\"margin: 0px; padding: 0px 0px 0px 1.75em; list-style: none; display: block;\">\n",
       "        \n",
       "            \n",
       "                <li><details>\n",
       "        <summary class=\"pystac-summary\"><span class=\"pystac-k\">0</span><span class=\"pystac-l\">[] 4 items</span></summary>\n",
       "        \n",
       "            <ul style=\"margin: 0px; padding: 0px 0px 0px 1.75em; list-style: none; display: block;\">\n",
       "        \n",
       "            \n",
       "                \n",
       "        <li class=\"pystac-row\">\n",
       "            <span class=\"pystac-k\">0</span>\n",
       "            <span class=\"pystac-v\">-79.0</span>\n",
       "        </li>\n",
       "    \n",
       "            \n",
       "        \n",
       "    </ul>\n",
       "        \n",
       "            <ul style=\"margin: 0px; padding: 0px 0px 0px 1.75em; list-style: none; display: block;\">\n",
       "        \n",
       "            \n",
       "                \n",
       "        <li class=\"pystac-row\">\n",
       "            <span class=\"pystac-k\">1</span>\n",
       "            <span class=\"pystac-v\">36.9</span>\n",
       "        </li>\n",
       "    \n",
       "            \n",
       "        \n",
       "    </ul>\n",
       "        \n",
       "            <ul style=\"margin: 0px; padding: 0px 0px 0px 1.75em; list-style: none; display: block;\">\n",
       "        \n",
       "            \n",
       "                \n",
       "        <li class=\"pystac-row\">\n",
       "            <span class=\"pystac-k\">2</span>\n",
       "            <span class=\"pystac-v\">-75.0</span>\n",
       "        </li>\n",
       "    \n",
       "            \n",
       "        \n",
       "    </ul>\n",
       "        \n",
       "            <ul style=\"margin: 0px; padding: 0px 0px 0px 1.75em; list-style: none; display: block;\">\n",
       "        \n",
       "            \n",
       "                \n",
       "        <li class=\"pystac-row\">\n",
       "            <span class=\"pystac-k\">3</span>\n",
       "            <span class=\"pystac-v\">40.9</span>\n",
       "        </li>\n",
       "    \n",
       "            \n",
       "        \n",
       "    </ul>\n",
       "        \n",
       "    </details></li>\n",
       "            \n",
       "        \n",
       "    </ul>\n",
       "        \n",
       "    </details></li>\n",
       "            \n",
       "        \n",
       "    </ul>\n",
       "        </details></li>\n",
       "    \n",
       "            \n",
       "        \n",
       "            \n",
       "                \n",
       "        <li><details>\n",
       "            <summary class=\"pystac-summary\"><span class=\"pystac-k\">temporal</span></summary>\n",
       "            <ul style=\"margin: 0px; padding: 0px 0px 0px 1.75em; list-style: none; display: block;\">\n",
       "        \n",
       "            \n",
       "                <li><details>\n",
       "        <summary class=\"pystac-summary\"><span class=\"pystac-k\">interval</span><span class=\"pystac-l\">[] 1 items</span></summary>\n",
       "        \n",
       "            <ul style=\"margin: 0px; padding: 0px 0px 0px 1.75em; list-style: none; display: block;\">\n",
       "        \n",
       "            \n",
       "                <li><details>\n",
       "        <summary class=\"pystac-summary\"><span class=\"pystac-k\">0</span><span class=\"pystac-l\">[] 2 items</span></summary>\n",
       "        \n",
       "            <ul style=\"margin: 0px; padding: 0px 0px 0px 1.75em; list-style: none; display: block;\">\n",
       "        \n",
       "            \n",
       "                \n",
       "        <li class=\"pystac-row\">\n",
       "            <span class=\"pystac-k\">0</span>\n",
       "            <span class=\"pystac-v\">\"2025-01-01T00:00:00Z\"</span>\n",
       "        </li>\n",
       "    \n",
       "            \n",
       "        \n",
       "    </ul>\n",
       "        \n",
       "            <ul style=\"margin: 0px; padding: 0px 0px 0px 1.75em; list-style: none; display: block;\">\n",
       "        \n",
       "            \n",
       "                \n",
       "        <li class=\"pystac-row\">\n",
       "            <span class=\"pystac-k\">1</span>\n",
       "            <span class=\"pystac-v\">\"2025-04-18T00:00:00Z\"</span>\n",
       "        </li>\n",
       "    \n",
       "            \n",
       "        \n",
       "    </ul>\n",
       "        \n",
       "    </details></li>\n",
       "            \n",
       "        \n",
       "    </ul>\n",
       "        \n",
       "    </details></li>\n",
       "            \n",
       "        \n",
       "    </ul>\n",
       "        </details></li>\n",
       "    \n",
       "            \n",
       "        \n",
       "    </ul>\n",
       "        </details></li>\n",
       "    \n",
       "                \n",
       "            \n",
       "                \n",
       "                    \n",
       "        <li class=\"pystac-row\">\n",
       "            <span class=\"pystac-k\">license</span>\n",
       "            <span class=\"pystac-v\">\"other\"</span>\n",
       "        </li>\n",
       "    \n",
       "                \n",
       "            \n",
       "        </ul>\n",
       "    </div>\n",
       "</div>"
      ],
      "text/plain": [
       "<Collection id=test-sentinel-2-c1-l2a>"
      ]
     },
     "execution_count": 5,
     "metadata": {},
     "output_type": "execute_result"
    }
   ],
   "source": [
    "collection_id = f\"{username_input.value}-sentinel-2-c1-l2a\"\n",
    "bbox = Point(lon_input.value, lat_input.value).buffer(2).bounds\n",
    "temporal_extent = [datetime(2025, 1, 1), datetime(2025, 4, 18)]\n",
    "\n",
    "my_collection = Collection(\n",
    "    id=collection_id,\n",
    "    description=\"my collection\",\n",
    "    extent=Extent(\n",
    "        spatial=SpatialExtent([[*bbox]]),\n",
    "        temporal=TemporalExtent([temporal_extent]),\n",
    "    ),\n",
    ")\n",
    "my_collection"
   ]
  },
  {
   "cell_type": "markdown",
   "id": "c5599078-40a9-49ed-a2a4-4c4dd409ce39",
   "metadata": {},
   "source": [
    "To connect to the `pgstac` database and upload data we need to generate the `dsn` and instantiate a `PgstacDB` and `Loader` pair."
   ]
  },
  {
   "cell_type": "code",
   "execution_count": 30,
   "id": "0536d319-0b51-40b4-8fe2-4ceb3ceacfec",
   "metadata": {},
   "outputs": [],
   "source": [
    "db_creds = {\n",
    "    \"password\": db_password_input.value,\n",
    "    \"dbname\": \"pgstac\",\n",
    "    \"engine\": \"postgres\",\n",
    "    \"port\": 5432,\n",
    "    \"host\": db_host_input.value,\n",
    "    \"username\": db_user_input.value,\n",
    "}\n",
    "pgstac_dsn = \"postgresql://{username}:{password}@{host}:{port}/{dbname}\".format(\n",
    "    **db_creds\n",
    ")\n",
    "\n",
    "db = PgstacDB(dsn=pgstac_dsn)\n",
    "loader = Loader(db)"
   ]
  },
  {
   "cell_type": "markdown",
   "id": "af1fa92d-97b3-4b70-b7b9-b371a06741a3",
   "metadata": {},
   "source": [
    "The `load_collections` method accepts an iterable of STAC collection dictionaries or a file path to a collection.json file or a .ndjson file with multiple collection records. You already have your `pystac.Collection` in memory in this session so you can just write it to a dictionary and upload it (in a list). \n",
    "\n",
    "The `upsert` method will add your collection to the `collections` table if it does not exist and update any fields with new values if the record does already exist."
   ]
  },
  {
   "cell_type": "code",
   "execution_count": 13,
   "id": "7ae2471c-8164-466f-a56d-745213cb7316",
   "metadata": {},
   "outputs": [],
   "source": [
    "loader.load_collections([my_collection.to_dict()], insert_mode=Methods.upsert)"
   ]
  },
  {
   "cell_type": "markdown",
   "id": "a607a1ca-d23d-4c42-bc55-e1def489599f",
   "metadata": {},
   "source": [
    "Now if you run a query on the database you will find a record for your collection!"
   ]
  },
  {
   "cell_type": "code",
   "execution_count": 19,
   "id": "7d71b6b1-70c3-4e5d-9444-f1dddb4e98c3",
   "metadata": {},
   "outputs": [
    {
     "data": {
      "text/plain": [
       "[('hrodmn-sentinel-2-c1-l2a',)]"
      ]
     },
     "execution_count": 19,
     "metadata": {},
     "output_type": "execute_result"
    }
   ],
   "source": [
    "list(db.query(f\"SELECT id from collections where id = '{my_collection.id}';\"))"
   ]
  },
  {
   "cell_type": "markdown",
   "id": "e62c2e30-5e0a-4a9f-9a35-16bdd24e88e8",
   "metadata": {},
   "source": [
    "## Upload items\n",
    "\n",
    "You already learned how to create STAC items from scratch in the [STAC metadata](./stac_metadata.ipynb) notebook so you get to take a shortcut for this one. Instead of creating STAC metadata from scratch you can just copy some from an existing STAC collection - this will be sufficient for our exercises during the workshop.\n",
    "\n",
    "This code will find Sentinel-2 L2A items for the first few months of 2025 that intersect the bounding box of a 2 degree radius around the coordinate that you entered at the top of the notebook."
   ]
  },
  {
   "cell_type": "code",
   "execution_count": 20,
   "id": "6a858a2d-57b7-40e9-8235-2c341f43a8de",
   "metadata": {},
   "outputs": [
    {
     "name": "stdout",
     "output_type": "stream",
     "text": [
      "1430\n"
     ]
    }
   ],
   "source": [
    "source_client = pystac_client.Client.open(\"https://earth-search.aws.element84.com/v1\")\n",
    "\n",
    "search = source_client.search(\n",
    "    collections=\"sentinel-2-c1-l2a\",\n",
    "    bbox=bbox,\n",
    "    datetime=temporal_extent,\n",
    "    limit=100,  # pagination limit\n",
    ")\n",
    "\n",
    "items = search.item_collection()\n",
    "\n",
    "print(len(items))"
   ]
  },
  {
   "cell_type": "markdown",
   "id": "34af967a-b837-4910-afde-6145582cf216",
   "metadata": {},
   "source": [
    "You are going to upload these items to the items table in the `pgstac` database but to do so you need to make sure the items' collection ID matches an existing collection - set it to match the collection that you uploaded in the previous step."
   ]
  },
  {
   "cell_type": "code",
   "execution_count": null,
   "id": "a410af0b-6d3c-4a8a-87ee-b16265afcd6a",
   "metadata": {},
   "outputs": [],
   "source": [
    "# override the collection id to match your new collection\n",
    "for item in items:\n",
    "    item.set_collection(my_collection)\n",
    "\n",
    "items[0]"
   ]
  },
  {
   "cell_type": "markdown",
   "id": "05a5a11e-9c20-41c0-aa5c-b078731173d8",
   "metadata": {},
   "source": [
    "Now you can use the `load_items` method to upload the list of STAC item dictionaries to the items table in the `pgstac` database. The `insert_ignore` method will upload any items that do not exist in the table and skip records that already exist."
   ]
  },
  {
   "cell_type": "code",
   "execution_count": 22,
   "id": "82443eb2-0d59-46b2-9178-25acb3d0593e",
   "metadata": {},
   "outputs": [],
   "source": [
    "loader.load_items([item.to_dict() for item in items], insert_mode=Methods.insert_ignore)"
   ]
  },
  {
   "cell_type": "markdown",
   "id": "680a5d26-05c0-4cf9-ac7a-ccc555675a18",
   "metadata": {},
   "source": [
    "Hooray you uploaded some items! Now run a query to verify that the records landed in the items table."
   ]
  },
  {
   "cell_type": "code",
   "execution_count": 27,
   "id": "48133d14-e301-45b4-973d-1b846a6c503a",
   "metadata": {},
   "outputs": [
    {
     "name": "stdout",
     "output_type": "stream",
     "text": [
      "there are 1430 items\n"
     ]
    }
   ],
   "source": [
    "n_items = db.query_one(\n",
    "    f\"SELECT COUNT(*) FROM items where collection = '{my_collection.id}';\"\n",
    ")\n",
    "print(f\"there are {n_items} items\")"
   ]
  },
  {
   "cell_type": "markdown",
   "id": "579370f8-3cde-4f6f-bff2-796aa08344eb",
   "metadata": {},
   "source": [
    "Here is your first glimpse of the power of STAC metadata. You just uploaded these items to the database and now you can browse the data in a beautiful interface without doing any more work!\n",
    "\n",
    "[Radiant Earth](https://radiant.earth/) built a tool called [STAC Browser](https://radiantearth.github.io/stac-browser/#/?.language=en) that is a human-readable interface to a STAC API. Your collection is immediately availble in the STAC API so you can browse it in STAC Browser. Take a tour around the STAC Browser page for your collection. "
   ]
  },
  {
   "cell_type": "code",
   "execution_count": 6,
   "id": "ba5f6278-4d92-4386-af1d-94ca5aed6c30",
   "metadata": {},
   "outputs": [
    {
     "data": {
      "text/html": [
       "\n",
       "        <iframe\n",
       "            width=\"1500\"\n",
       "            height=\"1000\"\n",
       "            src=\"https://radiantearth.github.io/stac-browser/#/external/https://pj44p72a3g.execute-api.us-west-2.amazonaws.com/collections/test-sentinel-2-c1-l2a\"\n",
       "            frameborder=\"0\"\n",
       "            allowfullscreen\n",
       "            \n",
       "        ></iframe>\n",
       "        "
      ],
      "text/plain": [
       "<IPython.lib.display.IFrame at 0x7d86ac31f8f0>"
      ]
     },
     "execution_count": 6,
     "metadata": {},
     "output_type": "execute_result"
    }
   ],
   "source": [
    "from IPython.display import IFrame\n",
    "\n",
    "IFrame(\n",
    "    f\"https://radiantearth.github.io/stac-browser/#/external/{stac_api_endpoint}/collections/{my_collection.id}\",\n",
    "    1500,\n",
    "    1000,\n",
    ")"
   ]
  },
  {
   "cell_type": "markdown",
   "id": "cdd2d506-7dad-48f1-acb4-4188b54c0346",
   "metadata": {},
   "source": [
    "## Delete an item\n",
    "\n",
    "It is less common but you might want to delete a STAC record some day. There are not yet any `pypgstac` functions for doing this but it is relatively easy to do via PostgreSQL query.\n",
    "\n",
    "Try deleting the last item in the list."
   ]
  },
  {
   "cell_type": "code",
   "execution_count": 28,
   "id": "4c6782bf-b043-49a0-a338-7676ff52d005",
   "metadata": {},
   "outputs": [],
   "source": [
    "with db.connect() as conn:\n",
    "    cur = conn.cursor()\n",
    "    cur.execute(f\"DELETE FROM items where id = '{items[-1].id}';\")\n",
    "    cur.close()\n",
    "    conn.commit()"
   ]
  },
  {
   "cell_type": "code",
   "execution_count": 32,
   "id": "d3030aa7-4aaa-4ead-8589-b88759968f99",
   "metadata": {},
   "outputs": [
    {
     "name": "stdout",
     "output_type": "stream",
     "text": [
      "there are now 1429 items\n"
     ]
    }
   ],
   "source": [
    "new_n_items = db.query_one(\n",
    "    f\"SELECT COUNT(*) FROM items where collection = '{my_collection.id}';\"\n",
    ")\n",
    "print(f\"now there are {new_n_items} items\")"
   ]
  }
 ],
 "metadata": {
  "kernelspec": {
   "display_name": "Python 3 (ipykernel)",
   "language": "python",
   "name": "python3"
  },
  "language_info": {
   "codemirror_mode": {
    "name": "ipython",
    "version": 3
   },
   "file_extension": ".py",
   "mimetype": "text/x-python",
   "name": "python",
   "nbconvert_exporter": "python",
   "pygments_lexer": "ipython3",
   "version": "3.12.10"
  }
 },
 "nbformat": 4,
 "nbformat_minor": 5
}
