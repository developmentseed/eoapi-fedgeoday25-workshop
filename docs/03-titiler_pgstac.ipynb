{
 "cells": [
  {
   "cell_type": "markdown",
   "id": "f40e31ef-ea58-408b-a252-d74974df2e86",
   "metadata": {},
   "source": [
    "# 3. The Raster API: titiler-pgstac\n",
    "\n",
    "titiler-pgstac is the crown jewel of an eoAPI deployment. You can use titiler-pgstac to serve infinitely customizable visualizations of the data in your catalog with just a few lines of code.\n",
    "\n",
    "### Dynamic Tiling 101\n",
    "XYZ map tiles are the backbone of web mapping technology. Traditionally, the tile images are generated from the raw data and stored in cloud storage so they can be easily fetched by a map client in a web browser (or desktop GIS application). These tiles are called \"static\" tiles because they are generated once and cannot be adjusted unless you regenerate the tiles from the raw source.\n",
    "\n",
    "The static nature of pre-generated tiles is a problem for dynamic datasets like satellite imagery collections where there may be new data streaming in at all times. It is not efficient to be continually rebuilding static tiles for an entire collection when the data are constantly changing!\n",
    "\n",
    "**Dynamic tiling** provides a solution to this problem. Instead of pre-rendering all of the tile images for a dynamic dataset, dynamic tiling renders the images on-the-fly as they are requested by client applications! Dynamically rendered tile images will take longer to return to the client but storing the raw data in cloud-optimized data formats will minimize processing latency and you gain the ability to request any visualization configuration (colormap, min/max, band math, expressions, etc).\n",
    "\n",
    "[titiler](https://developmentseed.org/titiler/) is the state-of-the-art in dynamic tiling. It can take an XYZ tile request, use rasterio/GDAL to read the portion of a data required to render the tile image, then return it to the requester as a .png (or whatever format is requested).\n",
    "\n",
    "[titiler-pgstac](https://stac-utils.github.io/titiler-pgstac/latest/) extends the core titiler functionality by providing a query interface for a `pgstac` database, allowing users to request visualizations of entire collections or mosaics of items that are in their STAC.\n",
    "\n",
    "To illustrate the power of titiler-pgstac, consider the following examples:\n",
    "1. You can create an interactive map with the most recent Sentinel-2 images from your STAC collection in just a few lines of code\n",
    "2. You can create an interacive map with the most recent **cloud-free** images from any period of time in the archive with 10 lines of code\n",
    "3. You can view natural color and false color composites of the imagery with one small change\n",
    "\n",
    "You can do all of this with titiler-pgstac with a single copy of the raw data in cloud storage!"
   ]
  },
  {
   "cell_type": "code",
   "execution_count": 1,
   "id": "68c9bd3b-ee40-4786-9a96-0f254c3a44d3",
   "metadata": {},
   "outputs": [
    {
     "data": {
      "text/html": [
       "\n",
       "        <iframe\n",
       "            width=\"800\"\n",
       "            height=\"600\"\n",
       "            src=\"https://helfmwseh8.execute-api.us-west-2.amazonaws.com/api.html\"\n",
       "            frameborder=\"0\"\n",
       "            allowfullscreen\n",
       "            \n",
       "        ></iframe>\n",
       "        "
      ],
      "text/plain": [
       "<IPython.lib.display.IFrame at 0x797471542540>"
      ]
     },
     "execution_count": 1,
     "metadata": {},
     "output_type": "execute_result"
    }
   ],
   "source": [
    "from IPython.display import IFrame\n",
    "\n",
    "titiler_pgstac_endpoint = \"https://helfmwseh8.execute-api.us-west-2.amazonaws.com\"\n",
    "\n",
    "IFrame(\n",
    "    f\"{titiler_pgstac_endpoint}/api.html\",\n",
    "    800,\n",
    "    600,\n",
    ")"
   ]
  },
  {
   "cell_type": "markdown",
   "id": "cbed93d9-ba99-4a67-8dcc-68c7d11ec183",
   "metadata": {},
   "source": [
    "## 3.1 /collections/{collection_id}\n",
    "Start out with the most basic titiler-pgstac request: RGB visualization of the most recent images in your Sentinel-2 STAC collection.\n",
    "\n",
    "To get a visualization of the red/green/blue band combination from your collection you need to tell titiler-pgstac which assets you want using the `assets` query parameter (multiple times in this case)."
   ]
  },
  {
   "cell_type": "code",
   "execution_count": 2,
   "id": "37731b54-7e89-4000-8e26-5ed9f813117b",
   "metadata": {},
   "outputs": [],
   "source": [
    "import json\n",
    "from urllib.parse import urlencode\n",
    "\n",
    "import httpx\n",
    "\n",
    "collection_id = \"hrodmn-sentinel-2-c1-l2a\"\n",
    "\n",
    "params = (\n",
    "    (\"assets\", \"red\"),\n",
    "    (\"assets\", \"green\"),\n",
    "    (\"assets\", \"blue\"),\n",
    "    (\"color_formula\", \"Gamma RGB 3.0 Saturation 1.2 Sigmoidal RGB 15 0.35\"),\n",
    ")"
   ]
  },
  {
   "cell_type": "markdown",
   "id": "8bb67743-bcea-4a92-90c1-08980e9786cc",
   "metadata": {},
   "source": [
    "The standard format for distributing information for XYZ tile layers is the `tilejson`. You can request a `tilejson` document from titiler-pgstac and the response will include everything you would need to add the layer to a map."
   ]
  },
  {
   "cell_type": "code",
   "execution_count": 3,
   "id": "8cbf296b-d0cc-4fff-a04e-0ade979fe5ed",
   "metadata": {
    "scrolled": true
   },
   "outputs": [
    {
     "name": "stdout",
     "output_type": "stream",
     "text": [
      "{\n",
      "  \"tilejson\": \"2.2.0\",\n",
      "  \"name\": \"Mosaic for 'hrodmn-sentinel-2-c1-l2a' Collection\",\n",
      "  \"version\": \"1.0.0\",\n",
      "  \"scheme\": \"xyz\",\n",
      "  \"tiles\": [\n",
      "    \"https://helfmwseh8.execute-api.us-west-2.amazonaws.com/collections/hrodmn-sentinel-2-c1-l2a/tiles/WebMercatorQuad/{z}/{x}/{y}?assets=red&assets=green&assets=blue&color_formula=Gamma+RGB+3.0+Saturation+1.2+Sigmoidal+RGB+15+0.35\"\n",
      "  ],\n",
      "  \"minzoom\": 0,\n",
      "  \"maxzoom\": 24,\n",
      "  \"bounds\": [\n",
      "    -79.0,\n",
      "    36.9,\n",
      "    -75.0,\n",
      "    40.9\n",
      "  ],\n",
      "  \"center\": [\n",
      "    -77.0,\n",
      "    38.9,\n",
      "    0\n",
      "  ]\n",
      "}\n"
     ]
    }
   ],
   "source": [
    "tilejson_request = httpx.get(\n",
    "    f\"{titiler_pgstac_endpoint}/collections/{collection_id}/WebMercatorQuad/tilejson.json?{urlencode(params, doseq=True)}\",\n",
    ")\n",
    "\n",
    "print(json.dumps(tilejson_request.json(), indent=2))"
   ]
  },
  {
   "cell_type": "markdown",
   "id": "eb7cbd49-320d-493a-883c-efaed3fb8b00",
   "metadata": {},
   "source": [
    "The `tiles` key in the tilejson response contains a list of XYZ tile URLs that can be added to most mapping/GIS applications:\n",
    "  - QGIS\n",
    "  - ArcGIS\n",
    "  - Leaflet\n",
    "  - Mapbox\n",
    "\n",
    "For now you can take a shortcut to view the map directly in this notebook using the `/map` endpoint which will generate an HTML file with a Leaflet map that can be rendered directly in the notebook."
   ]
  },
  {
   "cell_type": "code",
   "execution_count": 4,
   "id": "4888eb92-b16e-4e47-afe3-fc779cbba820",
   "metadata": {},
   "outputs": [
    {
     "data": {
      "text/html": [
       "\n",
       "        <iframe\n",
       "            width=\"800\"\n",
       "            height=\"600\"\n",
       "            src=\"https://helfmwseh8.execute-api.us-west-2.amazonaws.com/collections/hrodmn-sentinel-2-c1-l2a/WebMercatorQuad/map?assets=red&assets=green&assets=blue&color_formula=Gamma+RGB+3.0+Saturation+1.2+Sigmoidal+RGB+15+0.35\"\n",
       "            frameborder=\"0\"\n",
       "            allowfullscreen\n",
       "            \n",
       "        ></iframe>\n",
       "        "
      ],
      "text/plain": [
       "<IPython.lib.display.IFrame at 0x797452fbd640>"
      ]
     },
     "execution_count": 4,
     "metadata": {},
     "output_type": "execute_result"
    }
   ],
   "source": [
    "IFrame(\n",
    "    f\"{titiler_pgstac_endpoint}/collections/{collection_id}/WebMercatorQuad/map?{urlencode(params, doseq=True)}\",\n",
    "    800,\n",
    "    600,\n",
    ")"
   ]
  },
  {
   "cell_type": "markdown",
   "id": "269479e9-5e13-458d-9abd-37b759425e86",
   "metadata": {},
   "source": [
    "### How does it work?\n",
    "\n",
    "- titiler-pgstac is running as a Lambda (serverless) function in AWS that started up when you made the request for the `/map` endpoint.\n",
    "- The `/map` endpoint returns an HTML file that is pre-populated with some map code that includes the layer that you specified with the request parameters\n",
    "- As you browse the map, the map is sending XYZ tile requests to titiler-pgstac function in AWS\n",
    "- Each request contains the information titiler-pgstac needs to search for items in the pgstac database and how to construct an image from the items' assets\n",
    "  - `collection_id`: by specifying the collection ID in the request path you are instructing titiler-pgstac to search for items from a specific STAC collection. Unless otherwise specified, pgstac will retrieve the STAC items in descending order by datetime and it will stop returning results when a tile's geometry is completely covered.\n",
    "  - `assets`: titiler-pgstac constructs images from STAC assets in the items that match the search\n",
    "  - by setting `assets=red&assets=blue&assets=green` we are requesting a 3-band rendering from the red, green, and blue assets in each STAC item\n",
    "  - `color_formula`: since the raw data could have any scale, you may need to apply a color forumula or simpler `rescale` to ensure the output images are visually useful"
   ]
  },
  {
   "cell_type": "markdown",
   "id": "4b649d4b-590c-449e-aa2d-b8c50f1d1a70",
   "metadata": {},
   "source": [
    "## 3.2 /searches\n",
    "\n",
    "Sometimes you will want to render visualizations from a more complex STAC query. titiler-pgstac and pgstac make it possible to pre-register a search query to make it easy to request tiles from a STAC search based on the filter parameters.\n",
    "\n",
    "The view in the example above may have some clouds visible so you can construct a query that will filter down the STAC item results to items that have low cloud cover.\n",
    "\n",
    "To do this you can first send a POST request to the `/searches/register` endpoint with your STAC query parameters like you would send to a STAC API when searching for items directly.\n",
    "Once the search is registered, you can make XYZ tile requests like you did for the default `/collections` view."
   ]
  },
  {
   "cell_type": "code",
   "execution_count": 5,
   "id": "9ebbc173-45b4-4f38-a461-5d7dcfbaa733",
   "metadata": {},
   "outputs": [
    {
     "name": "stdout",
     "output_type": "stream",
     "text": [
      "{\n",
      "  \"id\": \"96b854a9c49919608e68e0f4462eadf3\",\n",
      "  \"links\": [\n",
      "    {\n",
      "      \"href\": \"https://helfmwseh8.execute-api.us-west-2.amazonaws.com/searches/96b854a9c49919608e68e0f4462eadf3/info\",\n",
      "      \"rel\": \"metadata\",\n",
      "      \"title\": \"Mosaic metadata\"\n",
      "    },\n",
      "    {\n",
      "      \"href\": \"https://helfmwseh8.execute-api.us-west-2.amazonaws.com/searches/96b854a9c49919608e68e0f4462eadf3/{tileMatrixSetId}/tilejson.json\",\n",
      "      \"rel\": \"tilejson\",\n",
      "      \"templated\": true,\n",
      "      \"title\": \"Link for TileJSON (Template URL)\"\n",
      "    },\n",
      "    {\n",
      "      \"href\": \"https://helfmwseh8.execute-api.us-west-2.amazonaws.com/searches/96b854a9c49919608e68e0f4462eadf3/{tileMatrixSetId}/map\",\n",
      "      \"rel\": \"map\",\n",
      "      \"templated\": true,\n",
      "      \"title\": \"Link for Map viewer (Template URL)\"\n",
      "    },\n",
      "    {\n",
      "      \"href\": \"https://helfmwseh8.execute-api.us-west-2.amazonaws.com/searches/96b854a9c49919608e68e0f4462eadf3/{tileMatrixSetId}/WMTSCapabilities.xml\",\n",
      "      \"rel\": \"wmts\",\n",
      "      \"templated\": true,\n",
      "      \"title\": \"Link for WMTS (Template URL)\"\n",
      "    }\n",
      "  ]\n",
      "}\n"
     ]
    }
   ],
   "source": [
    "# get the bounding box from your STAC collection record to constrain the map view\n",
    "stac_api_endpoint = \"https://pj44p72a3g.execute-api.us-west-2.amazonaws.com\"\n",
    "\n",
    "collection_info = httpx.get(f\"{stac_api_endpoint}/collections/{collection_id}\").json()\n",
    "\n",
    "bbox = collection_info[\"extent\"][\"spatial\"][\"bbox\"][0]\n",
    "\n",
    "register_search_request = httpx.post(\n",
    "    f\"{titiler_pgstac_endpoint}/searches/register\",\n",
    "    json={\n",
    "        \"collections\": [collection_id],\n",
    "        \"bbox\": bbox,\n",
    "        # filter down to items from March 2025\n",
    "        \"datetime\": \"2025-03-01T00:00:00Z/2025-04-01T00:00:00Z\",\n",
    "        # with less than 10% cloud cover\n",
    "        \"filter\": {\n",
    "            \"op\": \"lt\",\n",
    "            \"args\": [\n",
    "                {\"property\": \"eo:cloud_cover\"},\n",
    "                10,\n",
    "            ],\n",
    "        },\n",
    "    },\n",
    "    timeout=None,\n",
    ")\n",
    "\n",
    "search_response = register_search_request.json()\n",
    "print(json.dumps(search_response, indent=2))"
   ]
  },
  {
   "cell_type": "markdown",
   "id": "c329c88a-ff1d-4b4c-9c89-a603c9b791eb",
   "metadata": {},
   "source": [
    "The response comes back with an `id` which uniquely identifies this search and a handful of useful links associated with our newly registered search.\n",
    "\n",
    "Now you can browse the results of this search with the `/map` endpoint like you did earlier."
   ]
  },
  {
   "cell_type": "code",
   "execution_count": 6,
   "id": "67c9c702-baef-4dc3-949c-c562f855a6a0",
   "metadata": {},
   "outputs": [
    {
     "data": {
      "text/html": [
       "\n",
       "        <iframe\n",
       "            width=\"900\"\n",
       "            height=\"600\"\n",
       "            src=\"https://helfmwseh8.execute-api.us-west-2.amazonaws.com/searches/96b854a9c49919608e68e0f4462eadf3/WebMercatorQuad/map?assets=red&assets=green&assets=blue&color_formula=Gamma+RGB+3.0+Saturation+1.2+Sigmoidal+RGB+15+0.35\"\n",
       "            frameborder=\"0\"\n",
       "            allowfullscreen\n",
       "            \n",
       "        ></iframe>\n",
       "        "
      ],
      "text/plain": [
       "<IPython.lib.display.IFrame at 0x797452fbeb40>"
      ]
     },
     "execution_count": 6,
     "metadata": {},
     "output_type": "execute_result"
    }
   ],
   "source": [
    "search_id = search_response[\"id\"]\n",
    "\n",
    "params = (\n",
    "    (\"assets\", \"red\"),\n",
    "    (\"assets\", \"green\"),\n",
    "    (\"assets\", \"blue\"),\n",
    "    (\"color_formula\", \"Gamma RGB 3.0 Saturation 1.2 Sigmoidal RGB 15 0.35\"),\n",
    ")\n",
    "\n",
    "IFrame(\n",
    "    f\"{titiler_pgstac_endpoint}/searches/{search_id}/WebMercatorQuad/map?{urlencode(params, doseq=True)}\",\n",
    "    900,\n",
    "    600,\n",
    ")"
   ]
  },
  {
   "cell_type": "markdown",
   "id": "f2642ca8-35d7-4ec8-9dd6-6a9eb786b288",
   "metadata": {},
   "source": [
    "Et voila! Now you have a view of the most recent images from your STAC collection that had less than 10% cloud cover. This works because we have so much useful information packed into the STAC items - thank goodness for STAC metadata!\n",
    "\n",
    "What other kinds of filters would be useful to apply?"
   ]
  },
  {
   "cell_type": "markdown",
   "id": "520b08f4-1d21-4459-9bdf-559264b93a62",
   "metadata": {},
   "source": [
    "## 3.3 band math expressions\n",
    "\n",
    "Perhaps you want to view NDVI or some other band math expression. You can set `asset_as_band=True` then write a mathematical expression that uses the asset keys as variables which titiler-pgstac will evaluate for each tile.\n",
    "\n",
    "In the example below you can request tiles for a view of NDVI and specify the colormap from a [list](https://cogeotiff.github.io/rio-tiler/colormap/#intervals-colormaps) of possible values. The results will be calculated on-the-fly by titiler-pgstac for each XYZ tile request, and returned to your map client in this notebook."
   ]
  },
  {
   "cell_type": "code",
   "execution_count": 7,
   "id": "e2a709d5-9ed9-4260-b653-822875ab19c0",
   "metadata": {},
   "outputs": [
    {
     "data": {
      "text/html": [
       "\n",
       "        <iframe\n",
       "            width=\"800\"\n",
       "            height=\"600\"\n",
       "            src=\"https://helfmwseh8.execute-api.us-west-2.amazonaws.com/collections/hrodmn-sentinel-2-c1-l2a/WebMercatorQuad/map?asset_as_band=True&expression=%28nir+-+red%29+%2F+%28nir+%2B+red%29&colormap_name=viridis&rescale=-0.5%2C1\"\n",
       "            frameborder=\"0\"\n",
       "            allowfullscreen\n",
       "            \n",
       "        ></iframe>\n",
       "        "
      ],
      "text/plain": [
       "<IPython.lib.display.IFrame at 0x797468477e30>"
      ]
     },
     "execution_count": 7,
     "metadata": {},
     "output_type": "execute_result"
    }
   ],
   "source": [
    "params = (\n",
    "    (\"asset_as_band\", \"True\"),\n",
    "    (\"expression\", \"(nir - red) / (nir + red)\"),\n",
    "    (\"colormap_name\", \"viridis\"),\n",
    "    (\"rescale\", \"-0.5,1\"),\n",
    ")\n",
    "\n",
    "IFrame(\n",
    "    f\"{titiler_pgstac_endpoint}/collections/{collection_id}/WebMercatorQuad/map?{urlencode(params, doseq=True)}\",\n",
    "    800,\n",
    "    600,\n",
    ")"
   ]
  },
  {
   "cell_type": "markdown",
   "id": "00f0af47-d8c9-4e22-9be0-c00f74b37d0c",
   "metadata": {},
   "source": [
    "## 3.4 Customization\n",
    "\n",
    "eoAPI ships with the default titiler-pgstac application out-of-the-box, but there are several configuration options that you can set using environment variables in the API runtime environment. If there are features or other endpoints (like MosaicJSON capability) that you want to add, you will need to define a custom runtime that extends the default application.\n",
    "\n",
    "See [maap-eoapi](https://github.com/MAAP-Project/maap-eoapi/tree/main/cdk/runtimes/eoapi/raster/eoapi/raster) for an example of a custom runtime that extends the default settings.\n",
    "\n",
    "### 3.4.1 /external\n",
    "\n",
    "Sometimes you may want to render visualizations of data that are **not** cataloged in your STAC. The `/external` family of endpoints can be enabled by setting the environment variable `TITILER_PGSTAC_API_ENABLE_EXTERNAL_DATASET_ENDPOINTS=True`. This will enable you to create tile endpoints for any file available over HTTP."
   ]
  }
 ],
 "metadata": {
  "kernelspec": {
   "display_name": "Python 3 (ipykernel)",
   "language": "python",
   "name": "python3"
  },
  "language_info": {
   "codemirror_mode": {
    "name": "ipython",
    "version": 3
   },
   "file_extension": ".py",
   "mimetype": "text/x-python",
   "name": "python",
   "nbconvert_exporter": "python",
   "pygments_lexer": "ipython3",
   "version": "3.12.10"
  }
 },
 "nbformat": 4,
 "nbformat_minor": 5
}
