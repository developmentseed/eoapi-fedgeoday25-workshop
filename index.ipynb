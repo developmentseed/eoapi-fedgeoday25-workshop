{
 "cells": [
  {
   "cell_type": "markdown",
   "id": "e7903f66-7925-4fd4-8f90-b0125a4b2183",
   "metadata": {},
   "source": [
    "# eoAPI: FedGeoDay25 Workshop\n",
    "\n",
    "## Outline\n",
    "\n",
    "1. Introduction\n",
    "  - Objectives for workshop\n",
    "  - Definitions\n",
    "  - Cloud 101\n",
    "    - different cloud providers\n",
    "    - key is having compute resources (e.g. functions that read raster data) \"close\" to the files\n",
    "    - infrastructure as code \n",
    "  - STAC 101\n",
    "    - What is STAC and why is it useful?\n",
    "      - make your data accessible through robust and familiar tools \n",
    "    - STAC API basics\n",
    "      - static catalog vs API distinction\n",
    "    - ecosystem of STAC-based tools\n",
    "\n",
    "2. eoAPI architecture\n",
    "  - eoAPI components\n",
    "  - pgstac's role at the center of the eoAPI universe\n",
    "  - deployment details (local vs cloud, serverless vs not)\n",
    "  - FastAPI documentation\n",
    "\n",
    "3. The Database: `pgstac`\n",
    "  - loading STAC metadata into pgstac (interactive, everyone has database creds and uploads an item)\n",
    "  - deleting STAC metadata from pgstac\n",
    "\n",
    "4. The STAC API: `stac-fastapi-pgstac`\n",
    "  - overview of basic structure\n",
    "    - catalog vs collection vs item\n",
    "    - extensions\n",
    "    - `/collections`\n",
    "    - `/search`\n",
    "  - querying the API with an HTTP client\n",
    "  - querying the API with `pystac-client`\n",
    "  - link to `rstac`\n",
    "\n",
    "5. The raster API: `titiler-pgstac`\n",
    "  - dynamic tiling 101\n",
    "  - overview of basic structure\n",
    "    - `/collections`\n",
    "    - `/searches`\n",
    "    - `/cog`\n",
    "    - STAC search query parameter interface for tiles!\n",
    "  - querying the API with an HTTP client\n",
    "  - using `tilejson` in web maps (or QGIS)\n",
    "\n",
    "6. The vector API: `tipg`\n",
    "  - PostGIS 101\n",
    "    - uploading data\n",
    "  - OGC Feature Service\n",
    "  - overview of basic structure\n",
    "  - querying the API with an HTTP client\n"
   ]
  },
  {
   "cell_type": "code",
   "execution_count": null,
   "id": "e2f229e0-331b-4a2e-ba4a-4f6d6342ad09",
   "metadata": {},
   "outputs": [],
   "source": []
  }
 ],
 "metadata": {
  "kernelspec": {
   "display_name": "Python 3 (ipykernel)",
   "language": "python",
   "name": "python3"
  },
  "language_info": {
   "codemirror_mode": {
    "name": "ipython",
    "version": 3
   },
   "file_extension": ".py",
   "mimetype": "text/x-python",
   "name": "python",
   "nbconvert_exporter": "python",
   "pygments_lexer": "ipython3",
   "version": "3.13.0"
  }
 },
 "nbformat": 4,
 "nbformat_minor": 5
}
