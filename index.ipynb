{
 "cells": [
  {
   "cell_type": "markdown",
   "id": "e7903f66-7925-4fd4-8f90-b0125a4b2183",
   "metadata": {},
   "source": [
    "# eoAPI: FedGeoDay25 Workshop\n",
    "\n",
    "TODO: workshop materials"
   ]
  },
  {
   "cell_type": "code",
   "execution_count": null,
   "id": "6dce63af-03e3-4a09-9d7e-2ce61e1e823a",
   "metadata": {},
   "outputs": [],
   "source": []
  }
 ],
 "metadata": {
  "kernelspec": {
   "display_name": "Python 3 (ipykernel)",
   "language": "python",
   "name": "python3"
  },
  "language_info": {
   "codemirror_mode": {
    "name": "ipython",
    "version": 3
   },
   "file_extension": ".py",
   "mimetype": "text/x-python",
   "name": "python",
   "nbconvert_exporter": "python",
   "pygments_lexer": "ipython3",
   "version": "3.13.0"
  }
 },
 "nbformat": 4,
 "nbformat_minor": 5
}
